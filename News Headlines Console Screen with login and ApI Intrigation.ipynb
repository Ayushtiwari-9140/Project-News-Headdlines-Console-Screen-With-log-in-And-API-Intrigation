{
 "cells": [
  {
   "cell_type": "markdown",
   "id": "fd04a89d-7123-4bf2-8ce5-2a56a257eced",
   "metadata": {},
   "source": [
    "# News Headlines Console Screen with Login and API Integration"
   ]
  },
  {
   "cell_type": "code",
   "execution_count": 1,
   "id": "26cbd20e-6815-4e49-830f-f7c78cc8fc20",
   "metadata": {},
   "outputs": [],
   "source": [
    "import csv\n",
    "import hashlib\n",
    "import re\n",
    "import requests"
   ]
  },
  {
   "cell_type": "code",
   "execution_count": 2,
   "id": "fda51a1c-db68-4528-bad3-8e611b6809d6",
   "metadata": {},
   "outputs": [],
   "source": [
    "login_attempts = 0\n",
    "email_regex = r\"^[\\w\\.-]+@[\\w\\.-]+\\.\\w{2,}$\""
   ]
  },
  {
   "cell_type": "code",
   "execution_count": 3,
   "id": "94acf421-9485-4947-9fa4-a6e93ee0ad3d",
   "metadata": {},
   "outputs": [],
   "source": [
    "def is_valid_email(email):\n",
    "    return bool(re.match(email_regex, email))"
   ]
  },
  {
   "cell_type": "code",
   "execution_count": 11,
   "id": "17bf3887-3cd4-4bba-8041-ce8ca3dc33b4",
   "metadata": {},
   "outputs": [],
   "source": [
    "def hash_password(password):\n",
    "    return hashlib.sha256(password.encode()).hexdigest()"
   ]
  },
  {
   "cell_type": "code",
   "execution_count": 5,
   "id": "eb2ab09b-89e4-4039-8d4d-e7226466bfd0",
   "metadata": {},
   "outputs": [],
   "source": [
    "def read_credentials():\n",
    "    credentials = {}\n",
    "    try:\n",
    "        with open(\"12324729.csv\", \"r\") as csvfile:\n",
    "            reader = csv.DictReader(csvfile)\n",
    "            for row in reader: \n",
    "                email = row.get(\"email\", \"\").strip()\n",
    "                password = row.get(\"password\", \"\").strip()\n",
    "                security_question = row.get(\"security_question\", \"\").strip()\n",
    "                if email and password:\n",
    "                    credentials[email] = {\n",
    "                        \"password\": password,\n",
    "                        \"security_question\": security_question,\n",
    "                    }\n",
    "    except FileNotFound:\n",
    "        print(\"Credentials file not found. Please register a new user.\")\n",
    "    return credentials"
   ]
  },
  {
   "cell_type": "code",
   "execution_count": 6,
   "id": "a26594b1-217e-408c-9d53-dd726a3d7e71",
   "metadata": {},
   "outputs": [],
   "source": [
    "def add_user(credentials):\n",
    "    email = input(\"Enter your email: \")\n",
    "    if is_valid_email(email):\n",
    "        if email in credentials:\n",
    "            print(\"Email already exists. Please try logging in or use a different email.\")\n",
    "            return\n",
    "        password = input(\"Enter your password: \")\n",
    "        security_question = input(\"Enter your security question: \")\n",
    "        hashed_password = hash_password(password)\n",
    "        credentials[email] = {\n",
    "            \"password\": hashed_password,\n",
    "            \"security_question\": security_question,\n",
    "        }\n",
    "        with open(\"12324729.csv\", \"a\", newline=\"\") as csvfile:\n",
    "            writer = csv.DictWriter(csvfile, fieldnames=[\"email\", \"password\", \"security_question\"])\n",
    "            if csvfile.tell() == 0:\n",
    "                writer.writeheader()\n",
    "            writer.writerow({\"email\": email, \"password\": hashed_password, \"security_question\": security_question})\n",
    "        print(\"User registered successfully!\")\n",
    "    else:\n",
    "        print(\"Invalid email format. Please enter a valid email address (e.g., example@domain.com).\")\n",
    "\n",
    "def validate_login(email, password, credentials):\n",
    "    if email in credentials:\n",
    "        return credentials[email][\"password\"] == hash_password(password)\n",
    "    else:\n",
    "        return False"
   ]
  },
  {
   "cell_type": "code",
   "execution_count": 7,
   "id": "108a0b86-c7c5-44c9-9a50-d05653aba6c9",
   "metadata": {},
   "outputs": [],
   "source": [
    "def forgot_password(credentials):\n",
    "    email = input(\"Enter your registered email: \")\n",
    "    if email in credentials:\n",
    "        answer = input(credentials[email][\"security_question\"] + \" (Y/N): \").upper()\n",
    "        if answer == \"Y\":\n",
    "            new_password = input(\"Enter your new password: \")\n",
    "            if len(new_password) >= 8 and any(char in new_password for char in \"!@#$%^&*\"):\n",
    "                credentials[email][\"password\"] = hash_password(new_password)\n",
    "                with open(\"12324729.csv\", \"w\", newline=\"\") as csvfile:\n",
    "                    writer = csv.DictWriter(csvfile, fieldnames=[\"email\", \"password\", \"security_question\"])\n",
    "                    writer.writeheader()\n",
    "                    writer.writerows(credentials.values())\n",
    "                print(\"Password reset successful!\")\n",
    "            else:\n",
    "                print(\"Password must be at least 8 characters and contain a special character!\")\n",
    "        else:\n",
    "            print(\"Incorrect answer.\")\n",
    "    else:\n",
    "        print(\"Email not found!\")"
   ]
  },
  {
   "cell_type": "code",
   "execution_count": 8,
   "id": "1f9bee2c-46c7-48b2-856f-27f6bd39b3f1",
   "metadata": {},
   "outputs": [],
   "source": [
    "def fetch_news(keyword, api_key=\"b0ad07f95af443978338f4924766941f\"):\n",
    "    url = f\"https://newsapi.org/v2/top-headlines?q={keyword}&apiKey={api_key}\"\n",
    "    response = requests.get(url)\n",
    "    if response.status_code == 200:\n",
    "        data = response.json()\n",
    "        if data[\"status\"] == \"ok\":\n",
    "            articles = data[\"articles\"][:5]  \n",
    "            for article in articles:\n",
    "                print(f\"{article['title']} - {article['source']['name']}\")\n",
    "        else:\n",
    "            print(f\"Error: {data['message']}\")\n",
    "    else:\n",
    "        print(f\"API request failed with status code: {response.status_code}\")\n",
    "\n",
    "credentials = read_credentials()"
   ]
  },
  {
   "cell_type": "code",
   "execution_count": 10,
   "id": "dbd37475-454b-474e-b145-ac4c218a85aa",
   "metadata": {},
   "outputs": [
    {
     "name": "stdout",
     "output_type": "stream",
     "text": [
      "\n",
      "Welcome\n"
     ]
    },
    {
     "name": "stdin",
     "output_type": "stream",
     "text": [
      "1. Login\n",
      "2. Register New User\n",
      "3. Forgot Password\n",
      "4. Exit\n",
      ":  1\n",
      "Enter your email:  ayush@gmail.com\n",
      "Enter your password:  ayush@123\n",
      "Enter a keyword or topic:  football\n"
     ]
    },
    {
     "name": "stdout",
     "output_type": "stream",
     "text": [
      "SEC, Big Ten considering blockbuster scheduling agreement for college football's new frontier - USA Today\n",
      "College football Week 7 recap - Top 10 storylines the rest of the way - ESPN - ESPN\n",
      "Best betting sites UK | Top betting site offers for October 2024... - TalkSport\n",
      "Unique Stats from the 2023 College Football Regular Season - Bleacher Report\n",
      "Five famous people (and one cat) you didn't know have ESPNcricinfo profiles | ESPNcricinfo.com - ESPN Cric Info\n"
     ]
    }
   ],
   "source": [
    "while True:\n",
    "    print(\"\\nWelcome\")\n",
    "    choice = input(\"1. Login\\n2. Register New User\\n3. Forgot Password\\n4. Exit\\n: \")\n",
    "\n",
    "    if choice == \"1\":\n",
    "        if login_attempts < 5:\n",
    "            email = input(\"Enter your email: \")\n",
    "            if is_valid_email(email):\n",
    "                password = input(\"Enter your password: \")\n",
    "                if validate_login(email, password, credentials):\n",
    "                    login_attempts = 0  \n",
    "                    keyword = input(\"Enter a keyword or topic: \")\n",
    "                    fetch_news(keyword)\n",
    "                    break\n",
    "                else:\n",
    "                    login_attempts += 1\n",
    "                    print(\"not a valid email address or password. Attempts remaining:\", 5 - login_attempts)\n",
    "            else:\n",
    "                print(\"not a valid email address format. Please enter a valid email address (e.g., example@domain.com).\")\n",
    "        else:\n",
    "            print(\"Too many login attempts. Please try again later!.\")\n",
    "            break\n",
    "\n",
    "    elif choice == \"2\":\n",
    "        add_user(credentials)\n",
    "\n",
    "    elif choice == \"3\":\n",
    "        forgot_password(credentials)\n",
    "\n",
    "    elif choice == \"4\":\n",
    "        print(\"Exit.\")\n",
    "        break\n",
    "\n",
    "    else:\n",
    "        print(\"Invalid choice.\")"
   ]
  },
  {
   "cell_type": "code",
   "execution_count": null,
   "id": "dfb171dc-2562-46d3-923d-414e5a55b207",
   "metadata": {},
   "outputs": [],
   "source": []
  }
 ],
 "metadata": {
  "kernelspec": {
   "display_name": "Python 3 (ipykernel)",
   "language": "python",
   "name": "python3"
  },
  "language_info": {
   "codemirror_mode": {
    "name": "ipython",
    "version": 3
   },
   "file_extension": ".py",
   "mimetype": "text/x-python",
   "name": "python",
   "nbconvert_exporter": "python",
   "pygments_lexer": "ipython3",
   "version": "3.12.3"
  }
 },
 "nbformat": 4,
 "nbformat_minor": 5
}
